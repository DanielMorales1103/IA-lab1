{
 "cells": [
  {
   "cell_type": "markdown",
   "metadata": {},
   "source": [
    "# Laboratorio 1 "
   ]
  },
  {
   "cell_type": "markdown",
   "metadata": {},
   "source": [
    "**Brandon Sicay - 21757** \n",
    "\n",
    "**Daniel Morales - 21785**\n",
    "\n",
    "Repositorio: https://github.com/DanielMorales1103/IA-lab1"
   ]
  },
  {
   "cell_type": "markdown",
   "metadata": {},
   "source": [
    "## Task 1\n",
    "1. Considera un modelo de regresión lineal con dos características, X₁ y, y sus pesos correspondientes w₁ y w₂. Si el modelo predice una salida y mediante la ecuación y = 2w₁X₁ + 3w₂X₂ + 1, ¿cuál es la interpretación del coeficiente 3w₂ en el contexto del modelo?\n",
    "\n",
    "En el contexto del modelo se puede interpretar que por cada unidad que aumente o disminuya la característica X₂, el resultado y se verá afectado por esa característica en un factor de 3w₂. \n",
    "\n",
    "2. Explica el concepto de multicolinealidad en el contexto de la regresión lineal. ¿Cómo afecta la multicolinealidad a la interpretación de los coeficientes de regresión individuales?\n",
    "\n",
    "La multicolinealidad en el contexto de la regresión lineal es cuando dos o más variables independientes están relacionadas entre sí. La multicolinealidad afecta a la interpretación de las variables por separado debido a que al estar 2 o más variables relacionadas no se sabe la influencia que tiene una sola de estas variables sobre el modelo, ya que la variabilidad de esta variable puede explicar lo mismo que la variabilidad de la otra variable. A su vez los coeficientes de regresión son menos precisos y más sensibles a pequeñas variaciones, por lo que son difíciles de interpretar.  \n"
   ]
  },
  {
   "cell_type": "markdown",
   "metadata": {},
   "source": [
    "## Task 2 Clasificación de Sitios de Phishing Regresión Logística y KNN"
   ]
  },
  {
   "cell_type": "markdown",
   "metadata": {},
   "source": [
    "## Importar las librerías"
   ]
  },
  {
   "cell_type": "code",
   "execution_count": 24,
   "metadata": {},
   "outputs": [],
   "source": [
    "import numpy as np\n",
    "import matplotlib.pyplot as plt\n",
    "import pandas as pd\n",
    "from sklearn.preprocessing import LabelEncoder\n",
    "\n",
    "\n",
    "\n"
   ]
  },
  {
   "cell_type": "markdown",
   "metadata": {},
   "source": [
    "## Importar el conjunto de datos\n"
   ]
  },
  {
   "cell_type": "code",
   "execution_count": 27,
   "metadata": {},
   "outputs": [
    {
     "data": {
      "text/html": [
       "<div>\n",
       "<style scoped>\n",
       "    .dataframe tbody tr th:only-of-type {\n",
       "        vertical-align: middle;\n",
       "    }\n",
       "\n",
       "    .dataframe tbody tr th {\n",
       "        vertical-align: top;\n",
       "    }\n",
       "\n",
       "    .dataframe thead th {\n",
       "        text-align: right;\n",
       "    }\n",
       "</style>\n",
       "<table border=\"1\" class=\"dataframe\">\n",
       "  <thead>\n",
       "    <tr style=\"text-align: right;\">\n",
       "      <th></th>\n",
       "      <th>url</th>\n",
       "      <th>length_url</th>\n",
       "      <th>length_hostname</th>\n",
       "      <th>ip</th>\n",
       "      <th>nb_dots</th>\n",
       "      <th>nb_hyphens</th>\n",
       "      <th>nb_at</th>\n",
       "      <th>nb_qm</th>\n",
       "      <th>nb_and</th>\n",
       "      <th>nb_or</th>\n",
       "      <th>...</th>\n",
       "      <th>domain_in_title</th>\n",
       "      <th>domain_with_copyright</th>\n",
       "      <th>whois_registered_domain</th>\n",
       "      <th>domain_registration_length</th>\n",
       "      <th>domain_age</th>\n",
       "      <th>web_traffic</th>\n",
       "      <th>dns_record</th>\n",
       "      <th>google_index</th>\n",
       "      <th>page_rank</th>\n",
       "      <th>status</th>\n",
       "    </tr>\n",
       "  </thead>\n",
       "  <tbody>\n",
       "    <tr>\n",
       "      <th>0</th>\n",
       "      <td>http://www.crestonwood.com/router.php</td>\n",
       "      <td>37</td>\n",
       "      <td>19</td>\n",
       "      <td>0</td>\n",
       "      <td>3</td>\n",
       "      <td>0</td>\n",
       "      <td>0</td>\n",
       "      <td>0</td>\n",
       "      <td>0</td>\n",
       "      <td>0</td>\n",
       "      <td>...</td>\n",
       "      <td>0</td>\n",
       "      <td>1</td>\n",
       "      <td>0</td>\n",
       "      <td>45</td>\n",
       "      <td>-1</td>\n",
       "      <td>0</td>\n",
       "      <td>1</td>\n",
       "      <td>1</td>\n",
       "      <td>4</td>\n",
       "      <td>legitimate</td>\n",
       "    </tr>\n",
       "    <tr>\n",
       "      <th>1</th>\n",
       "      <td>http://shadetreetechnology.com/V4/validation/a...</td>\n",
       "      <td>77</td>\n",
       "      <td>23</td>\n",
       "      <td>1</td>\n",
       "      <td>1</td>\n",
       "      <td>0</td>\n",
       "      <td>0</td>\n",
       "      <td>0</td>\n",
       "      <td>0</td>\n",
       "      <td>0</td>\n",
       "      <td>...</td>\n",
       "      <td>1</td>\n",
       "      <td>0</td>\n",
       "      <td>0</td>\n",
       "      <td>77</td>\n",
       "      <td>5767</td>\n",
       "      <td>0</td>\n",
       "      <td>0</td>\n",
       "      <td>1</td>\n",
       "      <td>2</td>\n",
       "      <td>phishing</td>\n",
       "    </tr>\n",
       "    <tr>\n",
       "      <th>2</th>\n",
       "      <td>https://support-appleld.com.secureupdate.duila...</td>\n",
       "      <td>126</td>\n",
       "      <td>50</td>\n",
       "      <td>1</td>\n",
       "      <td>4</td>\n",
       "      <td>1</td>\n",
       "      <td>0</td>\n",
       "      <td>1</td>\n",
       "      <td>2</td>\n",
       "      <td>0</td>\n",
       "      <td>...</td>\n",
       "      <td>1</td>\n",
       "      <td>0</td>\n",
       "      <td>0</td>\n",
       "      <td>14</td>\n",
       "      <td>4004</td>\n",
       "      <td>5828815</td>\n",
       "      <td>0</td>\n",
       "      <td>1</td>\n",
       "      <td>0</td>\n",
       "      <td>phishing</td>\n",
       "    </tr>\n",
       "    <tr>\n",
       "      <th>3</th>\n",
       "      <td>http://rgipt.ac.in</td>\n",
       "      <td>18</td>\n",
       "      <td>11</td>\n",
       "      <td>0</td>\n",
       "      <td>2</td>\n",
       "      <td>0</td>\n",
       "      <td>0</td>\n",
       "      <td>0</td>\n",
       "      <td>0</td>\n",
       "      <td>0</td>\n",
       "      <td>...</td>\n",
       "      <td>1</td>\n",
       "      <td>0</td>\n",
       "      <td>0</td>\n",
       "      <td>62</td>\n",
       "      <td>-1</td>\n",
       "      <td>107721</td>\n",
       "      <td>0</td>\n",
       "      <td>0</td>\n",
       "      <td>3</td>\n",
       "      <td>legitimate</td>\n",
       "    </tr>\n",
       "    <tr>\n",
       "      <th>4</th>\n",
       "      <td>http://www.iracing.com/tracks/gateway-motorspo...</td>\n",
       "      <td>55</td>\n",
       "      <td>15</td>\n",
       "      <td>0</td>\n",
       "      <td>2</td>\n",
       "      <td>2</td>\n",
       "      <td>0</td>\n",
       "      <td>0</td>\n",
       "      <td>0</td>\n",
       "      <td>0</td>\n",
       "      <td>...</td>\n",
       "      <td>0</td>\n",
       "      <td>1</td>\n",
       "      <td>0</td>\n",
       "      <td>224</td>\n",
       "      <td>8175</td>\n",
       "      <td>8725</td>\n",
       "      <td>0</td>\n",
       "      <td>0</td>\n",
       "      <td>6</td>\n",
       "      <td>legitimate</td>\n",
       "    </tr>\n",
       "  </tbody>\n",
       "</table>\n",
       "<p>5 rows × 89 columns</p>\n",
       "</div>"
      ],
      "text/plain": [
       "                                                 url  length_url  \\\n",
       "0              http://www.crestonwood.com/router.php          37   \n",
       "1  http://shadetreetechnology.com/V4/validation/a...          77   \n",
       "2  https://support-appleld.com.secureupdate.duila...         126   \n",
       "3                                 http://rgipt.ac.in          18   \n",
       "4  http://www.iracing.com/tracks/gateway-motorspo...          55   \n",
       "\n",
       "   length_hostname  ip  nb_dots  nb_hyphens  nb_at  nb_qm  nb_and  nb_or  ...  \\\n",
       "0               19   0        3           0      0      0       0      0  ...   \n",
       "1               23   1        1           0      0      0       0      0  ...   \n",
       "2               50   1        4           1      0      1       2      0  ...   \n",
       "3               11   0        2           0      0      0       0      0  ...   \n",
       "4               15   0        2           2      0      0       0      0  ...   \n",
       "\n",
       "   domain_in_title  domain_with_copyright  whois_registered_domain  \\\n",
       "0                0                      1                        0   \n",
       "1                1                      0                        0   \n",
       "2                1                      0                        0   \n",
       "3                1                      0                        0   \n",
       "4                0                      1                        0   \n",
       "\n",
       "   domain_registration_length  domain_age  web_traffic  dns_record  \\\n",
       "0                          45          -1            0           1   \n",
       "1                          77        5767            0           0   \n",
       "2                          14        4004      5828815           0   \n",
       "3                          62          -1       107721           0   \n",
       "4                         224        8175         8725           0   \n",
       "\n",
       "   google_index  page_rank      status  \n",
       "0             1          4  legitimate  \n",
       "1             1          2    phishing  \n",
       "2             1          0    phishing  \n",
       "3             0          3  legitimate  \n",
       "4             0          6  legitimate  \n",
       "\n",
       "[5 rows x 89 columns]"
      ]
     },
     "execution_count": 27,
     "metadata": {},
     "output_type": "execute_result"
    }
   ],
   "source": [
    "path = \"dataset_phishing.csv\"\n",
    "\n",
    "data = pd.read_csv(path)\n",
    "\n",
    "data.head()"
   ]
  },
  {
   "cell_type": "markdown",
   "metadata": {},
   "source": [
    "## Verificar si los datos estan balanceados mediante el conteo de instancias para cada clase de nuestra columna objetivo"
   ]
  },
  {
   "cell_type": "code",
   "execution_count": 27,
   "metadata": {},
   "outputs": [
    {
     "name": "stdout",
     "output_type": "stream",
     "text": [
      "legitimate    5715\n",
      "phishing      5715\n",
      "Name: status, dtype: int64\n"
     ]
    }
   ],
   "source": [
    "\n",
    "\n",
    "conteo_clases = data['status'].value_counts() \n",
    "# imprime el número de instancias (filas) por cada clase \n",
    "print(conteo_clases)\n",
    "\n",
    "\n"
   ]
  },
  {
   "cell_type": "markdown",
   "metadata": {},
   "source": [
    "#### Podemos observar que nuestro dataset esta perfectamente balanceado, contando con la misma cantidad de instancias para url's pertenecientes a phising y legítimas\n"
   ]
  },
  {
   "cell_type": "markdown",
   "metadata": {},
   "source": [
    "## Codificar datos \n"
   ]
  },
  {
   "cell_type": "markdown",
   "metadata": {},
   "source": [
    "### Codificar la variable dependiente"
   ]
  },
  {
   "cell_type": "code",
   "execution_count": 28,
   "metadata": {},
   "outputs": [
    {
     "name": "stdout",
     "output_type": "stream",
     "text": [
      "[0 1 1 ... 0 0 1]\n"
     ]
    }
   ],
   "source": [
    "from sklearn.preprocessing import LabelEncoder\n",
    "encoder  = LabelEncoder()\n",
    "status = encoder.fit_transform(data['status'])\n",
    "\n",
    "print(status)"
   ]
  },
  {
   "cell_type": "markdown",
   "metadata": {},
   "source": [
    "### Feature selection"
   ]
  },
  {
   "cell_type": "markdown",
   "metadata": {},
   "source": [
    "| URL based features        | Content based features    | External features  |\n",
    "|---------------------------|---------------------------|--------------------|\n",
    "| IP - 01                   | hyperlinks int            | whois 01           |\n",
    "| HTTPS token 01              | external css int          | domain age int     |\n",
    "| radio of digits float     | login forms 01            | web traffic int    |\n",
    "| punycode 01               | external favicon 01       | dns record 01      |\n",
    "| port 01                   | links in tags float       | google index 01    |\n",
    "| tld 01                    | submit to email 01        |                    |\n",
    "| abnormal subdomains 01    | invisible iframe 01       |                    |\n",
    "| subdomains int            | pop up window 01          |                    |\n",
    "| prefix suffix 01          | right click 01            |                    |\n",
    "| shortening service 01     | domain in title 01        |                    |\n",
    "| path extension 01         |                           |                    |\n",
    "| phish hints int           |                           |                    |\n",
    "| brand domains 01          |                           |                    |\n",
    "| statical report 01        |                           |                    |\n",
    "\n",
    "**Para Variables Binarias (0/1):**\n",
    "\n",
    "- Encoding: No necesitan encoding adicional ya que ya están en formato numérico.\n",
    "- Escalado: No se requiere escalado ya que están en un rango  (0, 1).\n",
    "\n",
    "\n",
    "**Para Variables Numéricas (Int, Float):**\n",
    "\n",
    "- Encoding: No necesitan encoding ya que son numéricas.\n",
    "- Escalado: Se usará estandarización (StandardScaler en Scikit-learn)"
   ]
  },
  {
   "cell_type": "markdown",
   "metadata": {},
   "source": [
    "### Feature Scaling de la variable independiente"
   ]
  },
  {
   "cell_type": "code",
   "execution_count": 29,
   "metadata": {},
   "outputs": [
    {
     "name": "stdout",
     "output_type": "stream",
     "text": [
      "[[-0.59465091 -0.26786842  1.20609049 ...  0.          0.\n",
      "   0.        ]\n",
      " [ 1.87605348 -0.26786842 -1.93342541 ...  0.          1.\n",
      "   0.        ]\n",
      " [ 1.09285634 -0.26786842  1.20609049 ...  0.          1.\n",
      "   0.        ]\n",
      " ...\n",
      " [ 1.00404016 -0.26786842 -0.36366746 ...  0.          0.\n",
      "   0.        ]\n",
      " [-0.59465091 -0.26786842 -0.36366746 ...  0.          1.\n",
      "   0.        ]\n",
      " [ 0.36724497  8.1428769   1.20609049 ...  0.          1.\n",
      "   1.        ]]\n"
     ]
    }
   ],
   "source": [
    "from sklearn.preprocessing import StandardScaler\n",
    "scaler  = StandardScaler()\n",
    "scaled_features = scaler.fit_transform(data[['ratio_digits_url', 'ratio_digits_host', 'nb_subdomains', 'phish_hints', 'nb_hyperlinks', 'nb_extCSS', 'links_in_tags', 'domain_age', 'web_traffic']])\n",
    "# print(scaled_features)\n",
    "# features binarias\n",
    "binary_features = data[['ip', 'https_token', 'punycode' , 'port', 'tld_in_path', 'tld_in_subdomain', 'abnormal_subdomain', 'prefix_suffix', 'shortening_service', 'domain_in_brand', 'brand_in_subdomain', 'brand_in_path', 'statistical_report', 'login_form', 'external_favicon', 'submit_email', 'iframe', 'popup_window', 'onmouseover', 'right_clic', 'domain_in_title', 'whois_registered_domain']]\n",
    "\n",
    "# Combina las características escaladas con las binarias\n",
    "combined_features = np.concatenate([scaled_features, binary_features], axis=1)\n",
    "print(combined_features)"
   ]
  },
  {
   "cell_type": "markdown",
   "metadata": {},
   "source": [
    "## Feature Importance\n"
   ]
  },
  {
   "cell_type": "code",
   "execution_count": 30,
   "metadata": {},
   "outputs": [
    {
     "data": {
      "text/plain": [
       "<function matplotlib.pyplot.show(close=None, block=None)>"
      ]
     },
     "execution_count": 30,
     "metadata": {},
     "output_type": "execute_result"
    },
    {
     "data": {
      "image/png": "[encoded data removed]",
      "text/plain": [
       "<Figure size 640x480 with 1 Axes>"
      ]
     },
     "metadata": {},
     "output_type": "display_data"
    }
   ],
   "source": [
    "from sklearn.ensemble import RandomForestClassifier\n",
    "import matplotlib.pyplot as plt\n",
    "\n",
    "# Se utilzará la técnica de feature importance, la cual utiliza la métrica de Impureza de Gini, que mide \n",
    "# la disminución de la impureza del árbol causada por un feature con el modelo Random Forest\n",
    "\n",
    "model = RandomForestClassifier()\n",
    "model.fit(combined_features,status)\n",
    "# obtener las importancias \n",
    "importances = model.feature_importances_\n",
    "\n",
    "plt.bar(range(combined_features.shape[1]), importances)\n",
    "plt.xlabel('Features')\n",
    "plt.ylabel('Importance')\n",
    "plt.show\n"
   ]
  },
  {
   "cell_type": "code",
   "execution_count": 31,
   "metadata": {},
   "outputs": [
    {
     "name": "stdout",
     "output_type": "stream",
     "text": [
      "[[-0.4209257  -0.42934032]\n",
      " [-0.34296513 -0.42934032]\n",
      " [-0.49888627  2.49161198]\n",
      " ...\n",
      " [-0.11508038 -0.42933631]\n",
      " [-0.33097119  0.8011633 ]\n",
      " [-0.39693783 -0.42934032]]\n"
     ]
    }
   ],
   "source": [
    "# Con esta gráfica obserbamos que el feature en la posición 4(nb_hyperlinks) y en la posición 8(web_traffic) son los 2 features con más importancia en el set de datos.\n",
    "# Por lo que procedemos a crear un data set nuevo con estos dos features y el status, para tener una visualización de los datos más fácil.\n",
    "\n",
    "new_DataSet = combined_features[:,[4,8]]\n",
    "print(new_DataSet)\n"
   ]
  },
  {
   "cell_type": "markdown",
   "metadata": {},
   "source": [
    " ## Split para training, testing "
   ]
  },
  {
   "cell_type": "code",
   "execution_count": 32,
   "metadata": {},
   "outputs": [],
   "source": [
    "from sklearn.model_selection import train_test_split\n",
    "X_train, X_test, y_train, y_test = train_test_split(new_DataSet, status, test_size=0.2, random_state=1)"
   ]
  },
  {
   "cell_type": "code",
   "execution_count": 47,
   "metadata": {},
   "outputs": [
    {
     "name": "stdout",
     "output_type": "stream",
     "text": [
      "[[-0.21702882  2.43065339]\n",
      " [-0.52287414 -0.42934032]\n",
      " [-0.19304095 -0.42827894]\n",
      " ...\n",
      " [-0.39693783 -0.42934032]\n",
      " [-0.21103185 -0.42933932]\n",
      " [-0.26500456  0.23366223]]\n"
     ]
    }
   ],
   "source": [
    "print(X_train)"
   ]
  },
  {
   "cell_type": "code",
   "execution_count": 53,
   "metadata": {},
   "outputs": [
    {
     "name": "stdout",
     "output_type": "stream",
     "text": [
      "[[ 1.39615531 -0.42900958]\n",
      " [-0.3849439  -0.42934032]\n",
      " [-0.52287414 -0.42932979]\n",
      " ...\n",
      " [-0.4209257  -0.38953713]\n",
      " [-0.51687717 -0.39844259]\n",
      " [-0.34896209 -0.42901258]]\n"
     ]
    }
   ],
   "source": [
    "print(X_test)"
   ]
  },
  {
   "cell_type": "markdown",
   "metadata": {},
   "source": [
    "## Grafico"
   ]
  },
  {
   "cell_type": "markdown",
   "metadata": {},
   "source": [
    "## Task 2.1 - Regresión Logística"
   ]
  },
  {
   "cell_type": "markdown",
   "metadata": {},
   "source": [
    "### Implementación desde cero"
   ]
  },
  {
   "cell_type": "code",
   "execution_count": 24,
   "metadata": {},
   "outputs": [],
   "source": [
    "import numpy as np\n",
    "\n",
    "# Función Sigmoide\n",
    "def sigmoid(z):\n",
    "    return 1 / (1 + np.exp(-z))\n",
    "\n",
    "# Función de Costo\n",
    "def compute_cost(X, y, weights):\n",
    "    m = X.shape[0]\n",
    "    h = sigmoid(X @ weights)\n",
    "    epsilon = 1e-5  # para evitar log(0)\n",
    "    cost = (-1/m) * ((y.T @ np.log(h + epsilon)) + ((1 - y).T @ np.log(1 - h + epsilon)))\n",
    "    return cost\n",
    "\n",
    "# Gradiente Descendente\n",
    "def gradient_descent(X, y, weights, learning_rate, epochs):\n",
    "    m = X.shape[0]\n",
    "    cost_history = []\n",
    "    \n",
    "    for i in range(epochs):\n",
    "        h = sigmoid(X @ weights)\n",
    "        gradient = np.dot(X.T, (h - y)) / m\n",
    "        weights -= learning_rate * gradient\n",
    "        cost = compute_cost(X, y, weights)\n",
    "        cost_history.append(cost)\n",
    "        \n",
    "    return weights, cost_history\n"
   ]
  },
  {
   "cell_type": "code",
   "execution_count": 62,
   "metadata": {},
   "outputs": [
    {
     "name": "stdout",
     "output_type": "stream",
     "text": [
      "Accuracy: 0.7502187226596675\n"
     ]
    },
    {
     "data": {
      "image/png": "[encoded data removed]",
      "text/plain": [
       "<Figure size 640x480 with 1 Axes>"
      ]
     },
     "metadata": {},
     "output_type": "display_data"
    }
   ],
   "source": [
    "# Métrica de Desempeño\n",
    "def predict(X, weights):\n",
    "    y_pred = sigmoid(X @ weights)\n",
    "    return [1 if i > 0.5 else 0 for i in y_pred]\n",
    "\n",
    "# Asegurándonos de agregar el término de intercepción\n",
    "X_train_with_intercept = np.concatenate([np.ones((X_train.shape[0], 1)), X_train], axis=1)\n",
    "X_test_with_intercept = np.concatenate([np.ones((X_test.shape[0], 1)), X_test], axis=1)\n",
    "\n",
    "# Inicializar los pesos\n",
    "weights = np.zeros(X_train_with_intercept.shape[1])\n",
    "\n",
    "# Hiperparámetros\n",
    "learning_rate = 0.03\n",
    "epochs = 1000\n",
    "\n",
    "# Entrenamiento del modelo\n",
    "weights, cost_history = gradient_descent(X_train_with_intercept, y_train, weights, learning_rate, epochs)\n",
    "\n",
    "# Predicciones\n",
    "y_pred = predict(X_test_with_intercept, weights)\n",
    "\n",
    "# Calculando la precisión\n",
    "accuracy = np.mean(y_pred == y_test)\n",
    "print(f'Accuracy: {accuracy}')\n",
    "# Grafico del costo a lo largo de las iteraciones\n",
    "plt.plot(cost_history)\n",
    "plt.xlabel('Epochs')\n",
    "plt.ylabel('Cost')\n",
    "plt.show()"
   ]
  },
  {
   "cell_type": "code",
   "execution_count": 70,
   "metadata": {},
   "outputs": [
    {
     "data": {
      "image/png": "[encoded data removed]",
      "text/plain": [
       "<Figure size 640x480 with 1 Axes>"
      ]
     },
     "metadata": {},
     "output_type": "display_data"
    }
   ],
   "source": [
    "\n",
    "\n",
    "# Gráfico de grupos encontrados\n",
    "\n",
    "import matplotlib.pyplot as plt\n",
    "\n",
    "# Gráfico de grupos encontrados\n",
    "x = X_test[:, 0]\n",
    "y = X_test[:, 1]\n",
    "colors = ['red' if label == 1 else 'blue' for label in y_pred]\n",
    "\n",
    "# Crear dos scatter plots para la leyenda\n",
    "for color in ['red', 'blue']:\n",
    "    plt.scatter([], [], color=color, label='Phishing' if color == 'red' else 'Legítimo')\n",
    "\n",
    "# Crear el scatter plot real\n",
    "plt.scatter(x, y, color=colors)\n",
    "\n",
    "plt.title('Gráfico de Dispersión de las Predicciones de K-NN')\n",
    "plt.xlabel('nb_hyperlinks')\n",
    "plt.ylabel('web_traffic')\n",
    "\n",
    "plt.legend()\n",
    "\n",
    "plt.show()\n"
   ]
  },
  {
   "cell_type": "markdown",
   "metadata": {},
   "source": [
    "### Implementación con Librerías\n"
   ]
  },
  {
   "cell_type": "code",
   "execution_count": 73,
   "metadata": {},
   "outputs": [
    {
     "name": "stdout",
     "output_type": "stream",
     "text": [
      "Exactitud del Modelo: 0.7629046369203849\n"
     ]
    }
   ],
   "source": [
    "from sklearn.linear_model import LogisticRegression\n",
    "from sklearn.metrics import accuracy_score, confusion_matrix\n",
    "\n",
    "# Suponiendo que X_train, Y_train, X_test, Y_test ya están definidos\n",
    "\n",
    "# Crear una instancia del modelo\n",
    "model = LogisticRegression()\n",
    "\n",
    "# Entrenar el modelo\n",
    "model.fit(X_train, y_train)\n",
    "\n",
    "# Realizar predicciones\n",
    "predictions = model.predict(X_test)\n",
    "\n",
    "# Evaluar el modelo\n",
    "accuracy = accuracy_score(y_test, predictions)\n",
    "conf_matrix = confusion_matrix(y_test, predictions)\n",
    "\n",
    "print(f\"Exactitud del Modelo: {accuracy}\")\n",
    "\n"
   ]
  },
  {
   "cell_type": "markdown",
   "metadata": {},
   "source": [
    "Respecto a la selección de la métrica de desempeño, se seleccionó accuracy, al ser más fácil y directa de interpretar, así como era perfecta para el dataset con el que se contaba, donde los datos estaban perfectamente balanceados.\n",
    "\n",
    "**¿Cuál implementación fue mejor? ¿Por qué?**\n",
    "\n",
    "Al comprar la implementación propia contra la implementación de la libería sklearn, se tuvo que la predicción de la implementación de la librería es de 0.76 y la implementación propia es de 0.75. Esto, además de los procesos que incluye sklearn, puede deberse a los hiperparámetros. El learning rate y el número de épocas que se escogieron, son valores estimados a prueba y error, y podrían no ser los óptimos para el modelo. Scikit-learn ajusta estos internamente basados en sus algoritmos de optimización.\n"
   ]
  },
  {
   "cell_type": "markdown",
   "metadata": {},
   "source": [
    "## Task 2.2 K-Nearest Neighbors"
   ]
  },
  {
   "cell_type": "markdown",
   "metadata": {},
   "source": [
    "### Implementación de KNN"
   ]
  },
  {
   "cell_type": "code",
   "execution_count": 42,
   "metadata": {},
   "outputs": [],
   "source": [
    "cantidad_prediccion = 200\n",
    "# Función para obtener la distancia entre puntos dada por la forma de la distancia Euclidiana\n",
    "def euclidean_distance(X1, X2):\n",
    "    return np.sqrt(np.sum((X1 - X2) ** 2))\n",
    "\n",
    "def Knn(x_train, y_train, test_row, k):\n",
    "    distances = []\n",
    "    for i, train_row in enumerate(x_train):\n",
    "        dist = euclidean_distance(test_row, train_row)\n",
    "        distances.append((y_train[i], dist))\n",
    "    distances.sort(key=lambda tup: tup[1])\n",
    "    neighbors = distances[:k]\n",
    "    return neighbors\n",
    "\n",
    "def predict_classification(x_train, y_train, test_row, k):\n",
    "    neighbors = Knn(x_train, y_train, test_row, k)\n",
    "    outputs = [row[0] for row in neighbors]\n",
    "    prediction = max(set(outputs), key=outputs.count)\n",
    "    return prediction\n",
    "\n",
    "k = 3\n",
    "#prediction = predict_classification(X_train,y_train,[-0.44491357 -0.42934032],k)\n",
    "prediction = [predict_classification(X_train,y_train,test_row,k) for test_row in X_test[0:cantidad_prediccion]]\n"
   ]
  },
  {
   "cell_type": "code",
   "execution_count": 45,
   "metadata": {},
   "outputs": [
    {
     "name": "stdout",
     "output_type": "stream",
     "text": [
      "precision:  0.835\n"
     ]
    }
   ],
   "source": [
    "# Métrica de desempeño\n",
    "from sklearn.metrics import accuracy_score\n",
    "accurancy = accuracy_score(y_test[:cantidad_prediccion], prediction)\n",
    "print(\"precision: \",accurancy)"
   ]
  },
  {
   "cell_type": "code",
   "execution_count": 71,
   "metadata": {},
   "outputs": [
    {
     "data": {
      "image/png": "[encoded data removed]",
      "text/plain": [
       "<Figure size 640x480 with 1 Axes>"
      ]
     },
     "metadata": {},
     "output_type": "display_data"
    }
   ],
   "source": [
    "# Gráfico de grupos encontrados\n",
    "x = X_test[:cantidad_prediccion, 0] \n",
    "y = X_test[:cantidad_prediccion, 1]\n",
    "colors = ['red' if label == 1 else 'blue' for label in prediction]\n",
    "plt.scatter(x, y, color=colors)\n",
    "plt.title('Gráfico de Dispersión de las Predicciones de K-NN')\n",
    "plt.xlabel('nb_hyperlinks')\n",
    "plt.ylabel('web_traffic')\n",
    "plt.show()"
   ]
  },
  {
   "cell_type": "markdown",
   "metadata": {},
   "source": [
    "### Utilizando librerias"
   ]
  },
  {
   "cell_type": "code",
   "execution_count": 72,
   "metadata": {},
   "outputs": [
    {
     "name": "stdout",
     "output_type": "stream",
     "text": [
      "Precisión con Scikit-learn: 0.805\n"
     ]
    },
    {
     "data": {
      "image/png": "[encoded data removed]",
      "text/plain": [
       "<Figure size 640x480 with 1 Axes>"
      ]
     },
     "metadata": {},
     "output_type": "display_data"
    }
   ],
   "source": [
    "from sklearn.neighbors import KNeighborsClassifier\n",
    "k = 3\n",
    "knn = KNeighborsClassifier(n_neighbors=k)\n",
    "knn.fit(X_train, y_train)\n",
    "\n",
    "predictions_sklearn = knn.predict(X_test[:cantidad_prediccion])\n",
    "accuracy_sklearn = accuracy_score(y_test[:cantidad_prediccion], predictions_sklearn)\n",
    "print(\"Precisión con Scikit-learn:\", accuracy_sklearn)\n",
    "\n",
    "# Gráfico de grupos encontrados\n",
    "x = X_test[:cantidad_prediccion, 0] \n",
    "y = X_test[:cantidad_prediccion, 1]\n",
    "colors = ['red' if label == 1 else 'blue' for label in prediction]\n",
    "plt.scatter(x, y, color=colors)\n",
    "plt.title('Gráfico de Dispersión de las Predicciones de K-NN')\n",
    "plt.xlabel('nb_hyperlinks')\n",
    "plt.ylabel('web_traffic')\n",
    "plt.show()"
   ]
  }
 ],
 "metadata": {
  "kernelspec": {
   "display_name": "Python 3",
   "language": "python",
   "name": "python3"
  },
  "language_info": {
   "codemirror_mode": {
    "name": "ipython",
    "version": 3
   },
   "file_extension": ".py",
   "mimetype": "text/x-python",
   "name": "python",
   "nbconvert_exporter": "python",
   "pygments_lexer": "ipython3",
   "version": "3.9.13"
  }
 },
 "nbformat": 4,
 "nbformat_minor": 2
}
